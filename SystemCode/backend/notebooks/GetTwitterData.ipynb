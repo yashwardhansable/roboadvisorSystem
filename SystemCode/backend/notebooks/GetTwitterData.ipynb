{
 "cells": [
  {
   "cell_type": "markdown",
   "metadata": {
    "colab_type": "text",
    "id": "ae0omQQqFstZ"
   },
   "source": [
    "# Web scraper for Twitter Data"
   ]
  },
  {
   "cell_type": "markdown",
   "metadata": {
    "colab_type": "text",
    "id": "CR1oxueIh1GR"
   },
   "source": [
    "## Install dependencies"
   ]
  },
  {
   "cell_type": "code",
   "execution_count": 1,
   "metadata": {
    "colab": {
     "base_uri": "https://localhost:8080/",
     "height": 34
    },
    "colab_type": "code",
    "executionInfo": {
     "elapsed": 3107,
     "status": "ok",
     "timestamp": 1586153608935,
     "user": {
      "displayName": "Edmund Leow",
      "photoUrl": "https://lh3.googleusercontent.com/a-/AOh14Gh_HoCvN4oQ-ZDVKbdVNE6D644AKure9xRaqmQryA=s64",
      "userId": "07683038191893357409"
     },
     "user_tz": -480
    },
    "id": "f1cpMaE4WcDb",
    "outputId": "a6208ec6-5733-4842-bcf3-e547283aa009"
   },
   "outputs": [
    {
     "data": {
      "text/plain": [
       "'C:\\\\Users\\\\ASUS\\\\roboadvisorSystem\\\\SystemCode\\\\backend\\\\notebooks'"
      ]
     },
     "execution_count": 1,
     "metadata": {},
     "output_type": "execute_result"
    }
   ],
   "source": [
    "import os\n",
    "os.getcwd()"
   ]
  },
  {
   "cell_type": "code",
   "execution_count": 2,
   "metadata": {
    "colab": {
     "base_uri": "https://localhost:8080/",
     "height": 266
    },
    "colab_type": "code",
    "executionInfo": {
     "elapsed": 15789,
     "status": "ok",
     "timestamp": 1586153621627,
     "user": {
      "displayName": "Edmund Leow",
      "photoUrl": "https://lh3.googleusercontent.com/a-/AOh14Gh_HoCvN4oQ-ZDVKbdVNE6D644AKure9xRaqmQryA=s64",
      "userId": "07683038191893357409"
     },
     "user_tz": -480
    },
    "id": "5Lxep12ST-pa",
    "outputId": "d857ba28-01f2-4fac-fadb-b735026867f5"
   },
   "outputs": [
    {
     "name": "stderr",
     "output_type": "stream",
     "text": [
      "Cloning into 'Twitter-Get-Old-Tweets-Scraper'...\n"
     ]
    },
    {
     "name": "stdout",
     "output_type": "stream",
     "text": [
      "Requirement already satisfied: pyquery in e:\\anaconda\\lib\\site-packages (1.4.3)\n",
      "Requirement already satisfied: cssselect>0.7.9 in e:\\anaconda\\lib\\site-packages (from pyquery) (1.1.0)\n",
      "Requirement already satisfied: lxml>=2.1 in e:\\anaconda\\lib\\site-packages (from pyquery) (4.6.3)\n"
     ]
    }
   ],
   "source": [
    "! git clone https://github.com/eleow/Twitter-Get-Old-Tweets-Scraper\n",
    "! pip install pyquery"
   ]
  },
  {
   "cell_type": "code",
   "execution_count": 4,
   "metadata": {
    "colab": {},
    "colab_type": "code",
    "id": "hRBrs-TTUX-r"
   },
   "outputs": [],
   "source": [
    "import os\n",
    "crawler_location='Twitter-Get-Old-Tweets-Scraper/old_tweets_crawler'\n",
    "os.chdir(crawler_location)\n",
    "# os.getcwd()\n",
    "\n",
    "from IPython.display import Audio, display\n",
    "def done():\n",
    "  display(Audio(url=\"https://www.pacdv.com/sounds/miscellaneous_sounds/magic-wand-1.wav\", autoplay=True))"
   ]
  },
  {
   "cell_type": "code",
   "execution_count": 5,
   "metadata": {
    "colab": {
     "base_uri": "https://localhost:8080/",
     "height": 125
    },
    "colab_type": "code",
    "executionInfo": {
     "elapsed": 21685,
     "status": "ok",
     "timestamp": 1586153648148,
     "user": {
      "displayName": "Edmund Leow",
      "photoUrl": "https://lh3.googleusercontent.com/a-/AOh14Gh_HoCvN4oQ-ZDVKbdVNE6D644AKure9xRaqmQryA=s64",
      "userId": "07683038191893357409"
     },
     "user_tz": -480
    },
    "id": "hGQX4L_vU79r",
    "outputId": "849f277b-1533-4ef9-e300-b0dae8b0647a"
   },
   "outputs": [],
   "source": [
    "try:\n",
    "    import google.colab\n",
    "    IN_COLAB = True\n",
    "    \n",
    "    from google.colab import drive\n",
    "    drive.mount('/content/drive')\n",
    "\n",
    "    # import os\n",
    "    # os.chdir('/content/drive/My Drive/Colab Notebooks/RoboAdvisor')\n",
    "    # print('Working directory changed to ' + os.getcwd())  \n",
    "\n",
    "except:\n",
    "    IN_COLAB = False"
   ]
  },
  {
   "cell_type": "markdown",
   "metadata": {
    "colab_type": "text",
    "id": "w6UBYoPsh5pa"
   },
   "source": [
    "## Set variables and run\n",
    "Note that time that Twitter returns is dependent on your system time!"
   ]
  },
  {
   "cell_type": "code",
   "execution_count": 7,
   "metadata": {
    "colab": {
     "base_uri": "https://localhost:8080/",
     "height": 34
    },
    "colab_type": "code",
    "executionInfo": {
     "elapsed": 3593,
     "status": "ok",
     "timestamp": 1586159386590,
     "user": {
      "displayName": "Edmund Leow",
      "photoUrl": "https://lh3.googleusercontent.com/a-/AOh14Gh_HoCvN4oQ-ZDVKbdVNE6D644AKure9xRaqmQryA=s64",
      "userId": "07683038191893357409"
     },
     "user_tz": -480
    },
    "id": "hsRp6-QudluP",
    "outputId": "15555167-d0ce-4ae8-f8f3-970ad719ea55"
   },
   "outputs": [
    {
     "name": "stdout",
     "output_type": "stream",
     "text": [
      "^C\n",
      "The system cannot accept the date entered.\n",
      "Enter the new date: (dd-mm-yy) \n"
     ]
    }
   ],
   "source": [
    "!date +\"Timezone: %Z (UTC%z)\""
   ]
  },
  {
   "cell_type": "code",
   "execution_count": 0,
   "metadata": {
    "colab": {},
    "colab_type": "code",
    "id": "XHdrLOyXZR93"
   },
   "outputs": [],
   "source": [
    "# from datetime import datetime\n",
    "# postfix=datetime.today().strftime(\"%Y_%m_%d_%H%M%S\")\n",
    "\n",
    "#@title Input Variables\n",
    "output_path=\"'/content/drive/My Drive/Colab Notebooks/RoboAdvisor/notebooks'\" #@param\n",
    "num_tweets=100000 #@param {type:\"slider\", min:0, max:100000, step:100}\n",
    "username=\"CNBC\" #@param [\"CNBC\", \"LiveSquawk\", \"RANSquawk\", \"benzinga\", \"realDonaldTrump\"] {allow-input:true}\n",
    "since=\"2010-04-25\" #@param {type:\"date\"}\n",
    "to=\"2020-04-06\" #@param {type:\"date\"}\n",
    "\n",
    "output=output_path + \"/tweets_\"+username+\"_\"+to+\".csv\""
   ]
  },
  {
   "cell_type": "code",
   "execution_count": 8,
   "metadata": {
    "colab": {
     "base_uri": "https://localhost:8080/",
     "height": 1000
    },
    "colab_type": "code",
    "executionInfo": {
     "elapsed": 505918,
     "status": "ok",
     "timestamp": 1586155325172,
     "user": {
      "displayName": "Edmund Leow",
      "photoUrl": "https://lh3.googleusercontent.com/a-/AOh14Gh_HoCvN4oQ-ZDVKbdVNE6D644AKure9xRaqmQryA=s64",
      "userId": "07683038191893357409"
     },
     "user_tz": -480
    },
    "id": "WKnPGY6nf8fL",
    "outputId": "a35c8767-8a80-4e13-8f3d-4685f8d6dbb2"
   },
   "outputs": [
    {
     "name": "stdout",
     "output_type": "stream",
     "text": [
      "100 tweets added to file\n",
      "100 tweets added to file\n",
      "100 tweets added to file\n",
      "100 tweets added to file\n",
      "100 tweets added to file\n",
      "100 tweets added to file\n",
      "100 tweets added to file\n",
      "100 tweets added to file\n",
      "100 tweets added to file\n",
      "100 tweets added to file\n",
      "100 tweets added to file\n",
      "100 tweets added to file\n",
      "100 tweets added to file\n",
      "100 tweets added to file\n",
      "100 tweets added to file\n",
      "100 tweets added to file\n",
      "100 tweets added to file\n",
      "100 tweets added to file\n",
      "100 tweets added to file\n",
      "100 tweets added to file\n",
      "100 tweets added to file\n",
      "100 tweets added to file\n",
      "100 tweets added to file\n",
      "100 tweets added to file\n",
      "100 tweets added to file\n",
      "100 tweets added to file\n",
      "100 tweets added to file\n",
      "100 tweets added to file\n",
      "100 tweets added to file\n",
      "100 tweets added to file\n",
      "100 tweets added to file\n",
      "100 tweets added to file\n",
      "100 tweets added to file\n",
      "100 tweets added to file\n",
      "100 tweets added to file\n",
      "100 tweets added to file\n",
      "100 tweets added to file\n",
      "100 tweets added to file\n",
      "100 tweets added to file\n",
      "100 tweets added to file\n",
      "100 tweets added to file\n",
      "100 tweets added to file\n",
      "100 tweets added to file\n",
      "100 tweets added to file\n",
      "100 tweets added to file\n",
      "100 tweets added to file\n",
      "100 tweets added to file\n",
      "100 tweets added to file\n",
      "100 tweets added to file\n",
      "100 tweets added to file\n",
      "100 tweets added to file\n",
      "100 tweets added to file\n",
      "100 tweets added to file\n",
      "100 tweets added to file\n",
      "100 tweets added to file\n",
      "100 tweets added to file\n",
      "100 tweets added to file\n",
      "100 tweets added to file\n",
      "100 tweets added to file\n",
      "100 tweets added to file\n",
      "100 tweets added to file\n",
      "100 tweets added to file\n",
      "100 tweets added to file\n",
      "100 tweets added to file\n",
      "100 tweets added to file\n",
      "100 tweets added to file\n",
      "100 tweets added to file\n",
      "100 tweets added to file\n",
      "100 tweets added to file\n",
      "100 tweets added to file\n",
      "100 tweets added to file\n",
      "100 tweets added to file\n",
      "100 tweets added to file\n",
      "100 tweets added to file\n",
      "100 tweets added to file\n",
      "100 tweets added to file\n",
      "100 tweets added to file\n",
      "100 tweets added to file\n",
      "100 tweets added to file\n",
      "100 tweets added to file\n",
      "100 tweets added to file\n",
      "100 tweets added to file\n",
      "100 tweets added to file\n",
      "100 tweets added to file\n",
      "100 tweets added to file\n",
      "100 tweets added to file\n",
      "100 tweets added to file\n",
      "100 tweets added to file\n",
      "100 tweets added to file\n",
      "100 tweets added to file\n",
      "100 tweets added to file\n",
      "100 tweets added to file\n",
      "100 tweets added to file\n",
      "100 tweets added to file\n",
      "100 tweets added to file\n",
      "100 tweets added to file\n",
      "100 tweets added to file\n",
      "100 tweets added to file\n",
      "100 tweets added to file\n",
      "100 tweets added to file\n",
      "100 tweets added to file\n",
      "100 tweets added to file\n",
      "100 tweets added to file\n",
      "100 tweets added to file\n",
      "100 tweets added to file\n",
      "100 tweets added to file\n",
      "100 tweets added to file\n",
      "100 tweets added to file\n",
      "100 tweets added to file\n",
      "100 tweets added to file\n",
      "100 tweets added to file\n",
      "100 tweets added to file\n",
      "100 tweets added to file\n",
      "100 tweets added to file\n",
      "100 tweets added to file\n",
      "100 tweets added to file\n",
      "100 tweets added to file\n",
      "100 tweets added to file\n",
      "100 tweets added to file\n",
      "100 tweets added to file\n",
      "100 tweets added to file\n",
      "100 tweets added to file\n",
      "100 tweets added to file\n",
      "100 tweets added to file\n",
      "100 tweets added to file\n",
      "100 tweets added to file\n",
      "100 tweets added to file\n",
      "100 tweets added to file\n",
      "100 tweets added to file\n",
      "100 tweets added to file\n",
      "100 tweets added to file\n",
      "100 tweets added to file\n",
      "100 tweets added to file\n",
      "100 tweets added to file\n",
      "100 tweets added to file\n",
      "100 tweets added to file\n",
      "100 tweets added to file\n",
      "100 tweets added to file\n",
      "100 tweets added to file\n",
      "100 tweets added to file\n",
      "100 tweets added to file\n",
      "100 tweets added to file\n",
      "Sorry, die Anzahl deiner Anfragen ist begrenzt.\n",
      "88 tweets added to file\n",
      "Total results: 14288\n",
      "INFO:main.py:Finished scraping data. Output file generated /content/drive/My Drive/Colab Notebooks/RoboAdvisor/tweets_CNBC_2020-04-06.csv with 14288 tweets\n"
     ]
    },
    {
     "data": {
      "text/html": [
       "\n",
       "                <audio controls=\"controls\" autoplay=\"autoplay\">\n",
       "                    <source src=\"https://www.pacdv.com/sounds/miscellaneous_sounds/magic-wand-1.wav\" type=\"audio/x-wav\" />\n",
       "                    Your browser does not support the audio element.\n",
       "                </audio>\n",
       "              "
      ],
      "text/plain": [
       "<IPython.lib.display.Audio object>"
      ]
     },
     "metadata": {
      "tags": []
     },
     "output_type": "display_data"
    }
   ],
   "source": [
    "!python main.py --username $username --max-tweets $num_tweets --query \"\" --output-file $output --since $since --until $to\n",
    "done()"
   ]
  },
  {
   "cell_type": "markdown",
   "metadata": {
    "colab_type": "text",
    "id": "5Xm7-Qleh9ff"
   },
   "source": [
    "## Download File from Google Colab"
   ]
  },
  {
   "cell_type": "code",
   "execution_count": 0,
   "metadata": {
    "colab": {},
    "colab_type": "code",
    "id": "VPu3xbMJga30"
   },
   "outputs": [],
   "source": [
    "from google.colab import files\n",
    "files.download(output.replace('\\'','')) "
   ]
  }
 ],
 "metadata": {
  "colab": {
   "collapsed_sections": [],
   "name": "GetTwitterData.ipynb",
   "provenance": [],
   "toc_visible": true
  },
  "hide_input": false,
  "kernelspec": {
   "display_name": "Python 3 (ipykernel)",
   "language": "python",
   "name": "python3"
  },
  "language_info": {
   "codemirror_mode": {
    "name": "ipython",
    "version": 3
   },
   "file_extension": ".py",
   "mimetype": "text/x-python",
   "name": "python",
   "nbconvert_exporter": "python",
   "pygments_lexer": "ipython3",
   "version": "3.9.7"
  },
  "toc": {
   "base_numbering": 1,
   "nav_menu": {},
   "number_sections": true,
   "sideBar": true,
   "skip_h1_title": false,
   "title_cell": "Table of Contents",
   "title_sidebar": "Contents",
   "toc_cell": false,
   "toc_position": {},
   "toc_section_display": true,
   "toc_window_display": true
  },
  "varInspector": {
   "cols": {
    "lenName": 16,
    "lenType": 16,
    "lenVar": 40
   },
   "kernels_config": {
    "python": {
     "delete_cmd_postfix": "",
     "delete_cmd_prefix": "del ",
     "library": "var_list.py",
     "varRefreshCmd": "print(var_dic_list())"
    },
    "r": {
     "delete_cmd_postfix": ") ",
     "delete_cmd_prefix": "rm(",
     "library": "var_list.r",
     "varRefreshCmd": "cat(var_dic_list()) "
    }
   },
   "types_to_exclude": [
    "module",
    "function",
    "builtin_function_or_method",
    "instance",
    "_Feature"
   ],
   "window_display": false
  }
 },
 "nbformat": 4,
 "nbformat_minor": 1
}
